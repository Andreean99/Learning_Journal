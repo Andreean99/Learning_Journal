{
 "cells": [
  {
   "cell_type": "code",
   "execution_count": 5,
   "id": "974c906e",
   "metadata": {},
   "outputs": [
    {
     "data": {
      "text/plain": [
       "292"
      ]
     },
     "execution_count": 5,
     "metadata": {},
     "output_type": "execute_result"
    }
   ],
   "source": [
    "# KELVIN -> CELCIUS\n",
    "# Kelvin = \"K\"\n",
    "# Celcius = \"C\"\n",
    "# Farenheit \"F\"\n",
    "#Dimana Value From Merupakan suhu awal , dan Value TO merupakan Suhu Convert\n",
    "\n",
    "SUHU = 19\n",
    "FROM = \"C\" \n",
    "TO = \"K\"\n",
    "\n",
    "# SUHU merupakan value dari suhu , FROM merupakan format suhu awal , TO merupakan suhu konversi\n",
    "def KC(x,y,z):\n",
    "    if type(x) == int:\n",
    "        # Cek apakah suhu merupakan Celcius ke Kelvin\n",
    "        if y == \"C\" and z == \"K\":\n",
    "            value = x+273\n",
    "            return value\n",
    "        # Cek apakah Suhu merupakan Kelvin ke Celcius\n",
    "        elif y == \"K\" and z == \"C\":\n",
    "            value = x-273\n",
    "            return value\n",
    "        # Apabila format tidak sesuai makan syntax ini dijalankan\n",
    "        else:\n",
    "            return print(\"Silahkan Masukan Format Suhu Yang sesuai\")\n",
    "    else:\n",
    "        return print(\"Silahkan Masukan ANGKA yang sesuai\")\n",
    "    \n",
    "KC(SUHU,FROM,TO)"
   ]
  },
  {
   "cell_type": "code",
   "execution_count": 70,
   "id": "46f0589e",
   "metadata": {},
   "outputs": [
    {
     "name": "stdout",
     "output_type": "stream",
     "text": [
      "Silahkan Masukan ANGKA yang sesuai\n"
     ]
    }
   ],
   "source": [
    "def FAR(x,y,z):\n",
    "    if type(x) == int:\n",
    "        # Cek apakah suhu merupakan Celcius ke Farenheit\n",
    "        if y == \"C\" and z == \"F\":\n",
    "            return print(f\"{x} Celcius = {x * 4 / 5} Farenheit\")\n",
    "        # Cek apakah suhu merupakan Kelvin ke Farenheit\n",
    "        elif y == \"K\" and z == \"F\":\n",
    "            return print(f\"{x} Kelvin = {x * 1.8 - 459.67} Farenheit\")\n",
    "        # Apabila format tidak sesuai makan syntax ini dijalankan\n",
    "        else:\n",
    "            return print(\"Silahkan Masukan Format Yang sesuai\")\n",
    "    else:\n",
    "        return print(\"Silahkan Masukan ANGKA yang sesuai\")\n",
    "    \n",
    "FAR(SUHU,TO,\"F\")\n",
    "\n",
    "# FAR(KC(SUHU,FROM,TO),TO,\"F\")"
   ]
  },
  {
   "cell_type": "code",
   "execution_count": 71,
   "id": "655fd8c6",
   "metadata": {},
   "outputs": [
    {
     "name": "stdout",
     "output_type": "stream",
     "text": [
      "Silahkan Masukan ANGKA yang sesuai\n",
      "Silahkan Masukan ANGKA yang sesuai\n"
     ]
    }
   ],
   "source": [
    "def FARRETURN(x,y,z):\n",
    "    if type(x) == int:\n",
    "        # Cek apakah suhu merupakan Farenheit ke Celcius\n",
    "        if y == \"C\" and z == \"F\":\n",
    "            return print(f\"{x} Farenheit = {(x - 32) * 5.0/9.0} Celcius\")\n",
    "        # Cek apakah suhu merupakan Farenheit ke Kelvin\n",
    "        elif y == \"K\" and z == \"F\":\n",
    "            return print(f\"{x} Farenheit = {273.5 + ((x - 32.0) * (5.0/9.0))} Kelvin\")\n",
    "        # Apabila format tidak sesuai makan syntax ini dijalankan\n",
    "        else:\n",
    "            return print(\"Silahkan Masukan Format Yang sesuai\")\n",
    "    else:\n",
    "        return print(\"Silahkan Masukan ANGKA yang sesuai\")\n",
    "    \n",
    "FARRETURN(KC(SUHU,FROM,TO),TO,\"F\")"
   ]
  },
  {
   "cell_type": "code",
   "execution_count": null,
   "id": "276c02d8",
   "metadata": {},
   "outputs": [],
   "source": []
  }
 ],
 "metadata": {
  "kernelspec": {
   "display_name": "Python 3 (ipykernel)",
   "language": "python",
   "name": "python3"
  },
  "language_info": {
   "codemirror_mode": {
    "name": "ipython",
    "version": 3
   },
   "file_extension": ".py",
   "mimetype": "text/x-python",
   "name": "python",
   "nbconvert_exporter": "python",
   "pygments_lexer": "ipython3",
   "version": "3.8.8"
  }
 },
 "nbformat": 4,
 "nbformat_minor": 5
}
