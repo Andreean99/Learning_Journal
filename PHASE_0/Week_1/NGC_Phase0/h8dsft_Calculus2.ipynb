{
 "cells": [
  {
   "cell_type": "markdown",
   "metadata": {},
   "source": [
    "# Integral Symbol"
   ]
  },
  {
   "cell_type": "code",
   "execution_count": 4,
   "metadata": {},
   "outputs": [
    {
     "ename": "ModuleNotFoundError",
     "evalue": "No module named 'sympy'",
     "output_type": "error",
     "traceback": [
      "\u001b[1;31m---------------------------------------------------------------------------\u001b[0m",
      "\u001b[1;31mModuleNotFoundError\u001b[0m                       Traceback (most recent call last)",
      "\u001b[1;32md:\\Study\\Hacktiv8\\Learning_Journal\\PHASE_0\\Week_1\\NG_Challange\\h8dsft_Calculus2.ipynb Cell 2'\u001b[0m in \u001b[0;36m<cell line: 2>\u001b[1;34m()\u001b[0m\n\u001b[0;32m      <a href='vscode-notebook-cell:/d%3A/Study/Hacktiv8/Learning_Journal/PHASE_0/Week_1/NG_Challange/h8dsft_Calculus2.ipynb#ch0000015?line=0'>1</a>\u001b[0m \u001b[39mimport\u001b[39;00m \u001b[39mnumpy\u001b[39;00m \u001b[39mas\u001b[39;00m \u001b[39mnp\u001b[39;00m\n\u001b[1;32m----> <a href='vscode-notebook-cell:/d%3A/Study/Hacktiv8/Learning_Journal/PHASE_0/Week_1/NG_Challange/h8dsft_Calculus2.ipynb#ch0000015?line=1'>2</a>\u001b[0m \u001b[39mimport\u001b[39;00m \u001b[39msympy\u001b[39;00m \u001b[39mas\u001b[39;00m \u001b[39msy\u001b[39;00m\n",
      "\u001b[1;31mModuleNotFoundError\u001b[0m: No module named 'sympy'"
     ]
    }
   ],
   "source": [
    "import numpy as np\n",
    "import sympy as sy"
   ]
  },
  {
   "cell_type": "code",
   "execution_count": 15,
   "metadata": {},
   "outputs": [],
   "source": [
    "# membuat fungsi integral 1 dan 2\n",
    "x = sy.Symbol('x')\n",
    "a = 3*x**2 - 6*x + 3\n",
    "b = 8*x**3 - x**2 + 5*x"
   ]
  },
  {
   "cell_type": "code",
   "execution_count": 16,
   "metadata": {},
   "outputs": [
    {
     "data": {
      "text/latex": [
       "$\\displaystyle 3 x^{2} - 6 x + 3$"
      ],
      "text/plain": [
       "3*x**2 - 6*x + 3"
      ]
     },
     "execution_count": 16,
     "metadata": {},
     "output_type": "execute_result"
    }
   ],
   "source": [
    "# memanggil integral a\n",
    "a"
   ]
  },
  {
   "cell_type": "code",
   "execution_count": 17,
   "metadata": {},
   "outputs": [
    {
     "data": {
      "text/latex": [
       "$\\displaystyle x^{3} - 3 x^{2} + 3 x$"
      ],
      "text/plain": [
       "x**3 - 3*x**2 + 3*x"
      ]
     },
     "execution_count": 17,
     "metadata": {},
     "output_type": "execute_result"
    }
   ],
   "source": [
    "sy.integrate(a) \n",
    "# menjalankan fungsi integral 1\n",
    "# seharusnya di belakang ada + C"
   ]
  },
  {
   "cell_type": "code",
   "execution_count": 24,
   "metadata": {},
   "outputs": [
    {
     "data": {
      "text/plain": [
       "8"
      ]
     },
     "execution_count": 24,
     "metadata": {},
     "output_type": "execute_result"
    }
   ],
   "source": [
    "# fungsi integral 1 tertentu\n",
    "def integral_f(x):\n",
    "  return x**3 - 3*x**2 + 3*x\n",
    "\n",
    "#Integral tertentu dari f(x) dari 1 - 4\n",
    "integral_f(3) - integral_f(1)"
   ]
  },
  {
   "cell_type": "code",
   "execution_count": 18,
   "metadata": {},
   "outputs": [
    {
     "data": {
      "text/latex": [
       "$\\displaystyle 8 x^{3} - x^{2} + 5 x$"
      ],
      "text/plain": [
       "8*x**3 - x**2 + 5*x"
      ]
     },
     "execution_count": 18,
     "metadata": {},
     "output_type": "execute_result"
    }
   ],
   "source": [
    "# memanggil integral b\n",
    "b"
   ]
  },
  {
   "cell_type": "code",
   "execution_count": 19,
   "metadata": {},
   "outputs": [
    {
     "data": {
      "text/latex": [
       "$\\displaystyle 2 x^{4} - \\frac{x^{3}}{3} + \\frac{5 x^{2}}{2}$"
      ],
      "text/plain": [
       "2*x**4 - x**3/3 + 5*x**2/2"
      ]
     },
     "execution_count": 19,
     "metadata": {},
     "output_type": "execute_result"
    }
   ],
   "source": [
    "# menjalankan fungsi integral b\n",
    "sy.integrate(b)"
   ]
  },
  {
   "cell_type": "code",
   "execution_count": 37,
   "metadata": {},
   "outputs": [
    {
     "data": {
      "text/plain": [
       "1213.6666666666667"
      ]
     },
     "execution_count": 37,
     "metadata": {},
     "output_type": "execute_result"
    }
   ],
   "source": [
    "# fungsi integral tertentu\n",
    "def integral_f(x):\n",
    "  return 2*x**4 - (x/3)**3 + (5/2)**2\n",
    "\n",
    "#Integral tertentu dari f(x) dari 2 - 4\n",
    "integral_f(5) - integral_f(2)"
   ]
  },
  {
   "cell_type": "markdown",
   "metadata": {},
   "source": [
    "# Integral Numerik"
   ]
  },
  {
   "cell_type": "code",
   "execution_count": 26,
   "metadata": {},
   "outputs": [
    {
     "data": {
      "text/plain": [
       "8.001665972511454"
      ]
     },
     "execution_count": 26,
     "metadata": {},
     "output_type": "execute_result"
    }
   ],
   "source": [
    "from scipy import integrate\n",
    "import numpy as np\n",
    "\n",
    "def f(x):\n",
    "  return 3*x**2 - 6*x + 3\n",
    "\n",
    "x = np.linspace(1,3)\n",
    "y = f(x)\n",
    "\n",
    "A = integrate.trapz(y,x) # kalo eror pake trapezoid\n",
    "A\n",
    "# sama seperti turunan input y dulu baru x"
   ]
  },
  {
   "cell_type": "code",
   "execution_count": 27,
   "metadata": {},
   "outputs": [
    {
     "data": {
      "text/plain": [
       "array([1.        , 1.04081633, 1.08163265, 1.12244898, 1.16326531,\n",
       "       1.20408163, 1.24489796, 1.28571429, 1.32653061, 1.36734694,\n",
       "       1.40816327, 1.44897959, 1.48979592, 1.53061224, 1.57142857,\n",
       "       1.6122449 , 1.65306122, 1.69387755, 1.73469388, 1.7755102 ,\n",
       "       1.81632653, 1.85714286, 1.89795918, 1.93877551, 1.97959184,\n",
       "       2.02040816, 2.06122449, 2.10204082, 2.14285714, 2.18367347,\n",
       "       2.2244898 , 2.26530612, 2.30612245, 2.34693878, 2.3877551 ,\n",
       "       2.42857143, 2.46938776, 2.51020408, 2.55102041, 2.59183673,\n",
       "       2.63265306, 2.67346939, 2.71428571, 2.75510204, 2.79591837,\n",
       "       2.83673469, 2.87755102, 2.91836735, 2.95918367, 3.        ])"
      ]
     },
     "execution_count": 27,
     "metadata": {},
     "output_type": "execute_result"
    }
   ],
   "source": [
    "x"
   ]
  },
  {
   "cell_type": "code",
   "execution_count": 28,
   "metadata": {},
   "outputs": [
    {
     "data": {
      "text/plain": [
       "array([0.00000000e+00, 4.99791753e-03, 1.99916701e-02, 4.49812578e-02,\n",
       "       7.99666805e-02, 1.24947938e-01, 1.79925031e-01, 2.44897959e-01,\n",
       "       3.19866722e-01, 4.04831320e-01, 4.99791753e-01, 6.04748022e-01,\n",
       "       7.19700125e-01, 8.44648063e-01, 9.79591837e-01, 1.12453145e+00,\n",
       "       1.27946689e+00, 1.44439817e+00, 1.61932528e+00, 1.80424823e+00,\n",
       "       1.99916701e+00, 2.20408163e+00, 2.41899209e+00, 2.64389838e+00,\n",
       "       2.87880050e+00, 3.12369846e+00, 3.37859225e+00, 3.64348188e+00,\n",
       "       3.91836735e+00, 4.20324865e+00, 4.49812578e+00, 4.80299875e+00,\n",
       "       5.11786756e+00, 5.44273219e+00, 5.77759267e+00, 6.12244898e+00,\n",
       "       6.47730112e+00, 6.84214910e+00, 7.21699292e+00, 7.60183257e+00,\n",
       "       7.99666805e+00, 8.40149938e+00, 8.81632653e+00, 9.24114952e+00,\n",
       "       9.67596835e+00, 1.01207830e+01, 1.05755935e+01, 1.10403998e+01,\n",
       "       1.15152020e+01, 1.20000000e+01])"
      ]
     },
     "execution_count": 28,
     "metadata": {},
     "output_type": "execute_result"
    }
   ],
   "source": [
    "y\n"
   ]
  },
  {
   "cell_type": "code",
   "execution_count": 38,
   "metadata": {},
   "outputs": [
    {
     "data": {
      "text/plain": [
       "1231.655560183257"
      ]
     },
     "execution_count": 38,
     "metadata": {},
     "output_type": "execute_result"
    }
   ],
   "source": [
    "from scipy import integrate\n",
    "import numpy as np\n",
    "\n",
    "def f(x):\n",
    "  return 8*x**3 - x**2 + 5*x\n",
    "\n",
    "x = np.linspace(2,5)\n",
    "y = f(x)\n",
    "\n",
    "A = integrate.trapz(y,x) # kalo eror pake trapezoid\n",
    "A\n",
    "# sama seperti turunan input y dulu baru x"
   ]
  },
  {
   "cell_type": "code",
   "execution_count": null,
   "metadata": {},
   "outputs": [],
   "source": []
  }
 ],
 "metadata": {
  "interpreter": {
   "hash": "21404a4c15060d5cc3fc0116103735fefe9c2fa04275d30cfbd182c990f3d039"
  },
  "kernelspec": {
   "display_name": "Python 3.8.8 ('base')",
   "language": "python",
   "name": "python3"
  },
  "language_info": {
   "codemirror_mode": {
    "name": "ipython",
    "version": 3
   },
   "file_extension": ".py",
   "mimetype": "text/x-python",
   "name": "python",
   "nbconvert_exporter": "python",
   "pygments_lexer": "ipython3",
   "version": "3.10.4"
  },
  "orig_nbformat": 4
 },
 "nbformat": 4,
 "nbformat_minor": 2
}
