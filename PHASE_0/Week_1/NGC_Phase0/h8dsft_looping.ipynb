{
 "cells": [
  {
   "cell_type": "code",
   "execution_count": 2,
   "metadata": {},
   "outputs": [
    {
     "name": "stdout",
     "output_type": "stream",
     "text": [
      "402 adalah bilangan genap\n",
      "984 adalah bilangan genap\n",
      "360 adalah bilangan genap\n",
      "408 adalah bilangan genap\n",
      "980 adalah bilangan genap\n",
      "544 adalah bilangan genap\n",
      "390 adalah bilangan genap\n",
      "984 adalah bilangan genap\n",
      "592 adalah bilangan genap\n",
      "236 adalah bilangan genap\n",
      "942 adalah bilangan genap\n",
      "386 adalah bilangan genap\n",
      "462 adalah bilangan genap\n",
      "418 adalah bilangan genap\n",
      "344 adalah bilangan genap\n",
      "236 adalah bilangan genap\n",
      "566 adalah bilangan genap\n",
      "978 adalah bilangan genap\n",
      "328 adalah bilangan genap\n",
      "162 adalah bilangan genap\n",
      "758 adalah bilangan genap\n",
      "918 adalah bilangan genap\n",
      "done\n"
     ]
    }
   ],
   "source": [
    "numbers = [951, 402, 984, 651, 360, 69, 408, 319, 601, 485, 980, 507, 725, 547, 544, 615, 83, 165, 141, 501, 263, 617, 865, 575, 219, 390, 984, 592, 236, 105, 942, 941, 386, 462, 47, 418, 907, 344, 236, 375, 823, 566, 597, 978, 328, 615, 953, 345, 399, 162, 758, 219, 918, 237, 412, 566, 826, 248, 866, 950, 626, 949]\n",
    "for angka in numbers :\n",
    "    if angka%2 == 0:\n",
    "        print(f\"{angka} adalah bilangan genap\")\n",
    "        if angka == 918:\n",
    "            break\n",
    "print ('done')"
   ]
  }
 ],
 "metadata": {
  "interpreter": {
   "hash": "21404a4c15060d5cc3fc0116103735fefe9c2fa04275d30cfbd182c990f3d039"
  },
  "kernelspec": {
   "display_name": "Python 3.8.8 ('base')",
   "language": "python",
   "name": "python3"
  },
  "language_info": {
   "codemirror_mode": {
    "name": "ipython",
    "version": 3
   },
   "file_extension": ".py",
   "mimetype": "text/x-python",
   "name": "python",
   "nbconvert_exporter": "python",
   "pygments_lexer": "ipython3",
   "version": "3.8.8"
  },
  "orig_nbformat": 4
 },
 "nbformat": 4,
 "nbformat_minor": 2
}
