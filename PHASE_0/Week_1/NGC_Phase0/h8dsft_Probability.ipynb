{
 "cells": [
  {
   "cell_type": "code",
   "execution_count": 7,
   "metadata": {},
   "outputs": [
    {
     "name": "stdout",
     "output_type": "stream",
     "text": [
      "[5009, 4991]\n"
     ]
    },
    {
     "data": {
      "image/png": "[encoded data removed]",
      "text/plain": [
       "<Figure size 360x360 with 1 Axes>"
      ]
     },
     "metadata": {},
     "output_type": "display_data"
    }
   ],
   "source": [
    "%matplotlib inline\n",
    "import random\n",
    "\n",
    "# Create a list with 2 element (for heads and tails)\n",
    "heads_tails = [0,0]\n",
    "\n",
    "# loop through 10000 trials\n",
    "trials = 10000\n",
    "trial = 0\n",
    "while trial < trials:\n",
    "    trial = trial + 1\n",
    "    # Get a random 0 or 1\n",
    "    toss = random.randint(0,1)\n",
    "    # Increment the list element corresponding to the toss result\n",
    "    heads_tails[toss] = heads_tails[toss] + 1\n",
    "\n",
    "print (heads_tails)\n",
    "\n",
    "# Show a pie chart of the results\n",
    "from matplotlib import pyplot as plt\n",
    "plt.figure(figsize=(5,5))\n",
    "plt.pie(heads_tails, labels=['heads', 'tails'])\n",
    "plt.legend()\n",
    "plt.show()"
   ]
  },
  {
   "cell_type": "code",
   "execution_count": null,
   "metadata": {},
   "outputs": [],
   "source": []
  }
 ],
 "metadata": {
  "interpreter": {
   "hash": "21404a4c15060d5cc3fc0116103735fefe9c2fa04275d30cfbd182c990f3d039"
  },
  "kernelspec": {
   "display_name": "Python 3.8.8 ('base')",
   "language": "python",
   "name": "python3"
  },
  "language_info": {
   "codemirror_mode": {
    "name": "ipython",
    "version": 3
   },
   "file_extension": ".py",
   "mimetype": "text/x-python",
   "name": "python",
   "nbconvert_exporter": "python",
   "pygments_lexer": "ipython3",
   "version": "3.8.8"
  },
  "orig_nbformat": 4
 },
 "nbformat": 4,
 "nbformat_minor": 2
}
